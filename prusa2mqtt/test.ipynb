{
 "cells": [
  {
   "cell_type": "code",
   "execution_count": 23,
   "metadata": {},
   "outputs": [
    {
     "name": "stdout",
     "output_type": "stream",
     "text": [
      "('22', '16', '-1')\n",
      "('182.8', '0.0', '57.9', '0.0', '182.8', '0.0', '0', '0', '42.1', '36.6')\n"
     ]
    },
    {
     "ename": "AttributeError",
     "evalue": "'NoneType' object has no attribute 'groups'",
     "output_type": "error",
     "traceback": [
      "\u001b[0;31m---------------------------------------------------------------------------\u001b[0m",
      "\u001b[0;31mAttributeError\u001b[0m                            Traceback (most recent call last)",
      "\u001b[0;32m/tmp/ipykernel_14995/2832836211.py\u001b[0m in \u001b[0;36m<module>\u001b[0;34m\u001b[0m\n\u001b[1;32m     19\u001b[0m \u001b[0;34m\u001b[0m\u001b[0m\n\u001b[1;32m     20\u001b[0m \u001b[0mr\u001b[0m \u001b[0;34m=\u001b[0m \u001b[0mp\u001b[0m\u001b[0;34m.\u001b[0m\u001b[0mmatch\u001b[0m\u001b[0;34m(\u001b[0m\u001b[0mline\u001b[0m\u001b[0;34m)\u001b[0m\u001b[0;34m\u001b[0m\u001b[0;34m\u001b[0m\u001b[0m\n\u001b[0;32m---> 21\u001b[0;31m \u001b[0mprint\u001b[0m\u001b[0;34m(\u001b[0m\u001b[0mr\u001b[0m\u001b[0;34m.\u001b[0m\u001b[0mgroups\u001b[0m\u001b[0;34m(\u001b[0m\u001b[0;34m)\u001b[0m\u001b[0;34m)\u001b[0m\u001b[0;34m\u001b[0m\u001b[0;34m\u001b[0m\u001b[0m\n\u001b[0m",
      "\u001b[0;31mAttributeError\u001b[0m: 'NoneType' object has no attribute 'groups'"
     ]
    }
   ],
   "source": [
    "import re\n",
    "line = 'NORMAL MODE: Percent done: 22; print time remaining in mins: 16; Change in mins: -1'\n",
    "p = re.compile(r'\\w+ MODE: Percent done: (?P<percent_done>\\d+); print time remaining in mins: (?P<mins_remaining>\\d+); Change in mins: (?P<change_in_mins>-?\\d+)')\n",
    "\n",
    "r = p.match(line)\n",
    "print(r.groups())\n",
    "\n",
    "\n",
    "line = 'T:182.8 /0.0 B:57.9 /0.0 T0:182.8 /0.0 @:0 B@:0 P:42.1 A:36.6'\n",
    "p = re.compile(r'T:(?P<extruder_actual>\\d+\\.\\d) /(?P<extruder_target>\\d+\\.\\d) B:(?P<bed_actual>\\d+\\.\\d) /(?P<bed_target>\\d+\\.\\d) T0:(\\d+\\.\\d) /(\\d+\\.\\d) @:(?P<hotend_power>\\d+) B@:(?P<bed_power>\\d+) P:(?P<pinda>\\d+\\.\\d) A:(?P<ambient>\\d+\\.\\d)')\n",
    "\n",
    "r = p.match(line)\n",
    "print(r.groups())\n",
    "\n",
    "line = 'T:206.65 E:0 B:59.4'\n",
    "p = re.compile(r'T:(?P<extruder_actual>\\d+\\.\\d) E:(?P<e>\\d+) B:(?P<bed_actual>\\d+\\.\\d)')\n",
    "\n",
    "r = p.match(line)\n",
    "print(r.groups())\n"
   ]
  }
 ],
 "metadata": {
  "interpreter": {
   "hash": "f0d98b7747c2228e5ba959c63c0939739d7a51f8b3f86daf5636eb9df3ff8806"
  },
  "kernelspec": {
   "display_name": "Python 3.7.3 ('prusa2mqtt')",
   "language": "python",
   "name": "python3"
  },
  "language_info": {
   "codemirror_mode": {
    "name": "ipython",
    "version": 3
   },
   "file_extension": ".py",
   "mimetype": "text/x-python",
   "name": "python",
   "nbconvert_exporter": "python",
   "pygments_lexer": "ipython3",
   "version": "3.7.3"
  },
  "orig_nbformat": 4
 },
 "nbformat": 4,
 "nbformat_minor": 2
}
